{
  "nbformat": 4,
  "nbformat_minor": 0,
  "metadata": {
    "kernelspec": {
      "name": "python3",
      "display_name": "Python 3"
    },
    "colab": {
      "name": "api_data_wrangling_mini_project.ipynb",
      "provenance": [],
      "collapsed_sections": [],
      "include_colab_link": true
    }
  },
  "cells": [
    {
      "cell_type": "markdown",
      "metadata": {
        "id": "view-in-github",
        "colab_type": "text"
      },
      "source": [
        "<a href=\"https://colab.research.google.com/github/vaibhavsood20/DataScienceGuidedCapstone/blob/master/api_data_wrangling_mini_project_Submission.ipynb\" target=\"_parent\"><img src=\"https://colab.research.google.com/assets/colab-badge.svg\" alt=\"Open In Colab\"/></a>"
      ]
    },
    {
      "cell_type": "markdown",
      "metadata": {
        "id": "4z7YI54FpnJs"
      },
      "source": [
        "This exercise will require you to pull some data from the Qunadl API. Qaundl is currently the most widely used aggregator of financial market data."
      ]
    },
    {
      "cell_type": "markdown",
      "metadata": {
        "id": "zZXBTJc9pnJ1"
      },
      "source": [
        "As a first step, you will need to register a free account on the http://www.quandl.com website."
      ]
    },
    {
      "cell_type": "markdown",
      "metadata": {
        "id": "z_MyOrdvpnJ2"
      },
      "source": [
        "After you register, you will be provided with a unique API key, that you should store:"
      ]
    },
    {
      "cell_type": "code",
      "metadata": {
        "collapsed": true,
        "id": "rEt72D3UpnJ2"
      },
      "source": [
        "# Store the API key as a string - according to PEP8, constants are always named in all upper case\n",
        "API_KEY = D1izcyvyXhRzhSKhNCsV"
      ],
      "execution_count": null,
      "outputs": []
    },
    {
      "cell_type": "markdown",
      "metadata": {
        "id": "WO3xteuSpnJ3"
      },
      "source": [
        "Qaundl has a large number of data sources, but, unfortunately, most of them require a Premium subscription. Still, there are also a good number of free datasets."
      ]
    },
    {
      "cell_type": "markdown",
      "metadata": {
        "id": "7rzEQa5mpnJ4"
      },
      "source": [
        "For this mini project, we will focus on equities data from the Frankfurt Stock Exhange (FSE), which is available for free. We'll try and analyze the stock prices of a company called Carl Zeiss Meditec, which manufactures tools for eye examinations, as well as medical lasers for laser eye surgery: https://www.zeiss.com/meditec/int/home.html. The company is listed under the stock ticker AFX_X."
      ]
    },
    {
      "cell_type": "markdown",
      "metadata": {
        "id": "mIAHoJTGpnJ4"
      },
      "source": [
        "You can find the detailed Quandl API instructions here: https://docs.quandl.com/docs/time-series"
      ]
    },
    {
      "cell_type": "markdown",
      "metadata": {
        "id": "2cNqwj2FpnJ5"
      },
      "source": [
        "While there is a dedicated Python package for connecting to the Quandl API, we would prefer that you use the *requests* package, which can be easily downloaded using *pip* or *conda*. You can find the documentation for the package here: http://docs.python-requests.org/en/master/ "
      ]
    },
    {
      "cell_type": "markdown",
      "metadata": {
        "id": "HD-NCDQbpnJ5"
      },
      "source": [
        "Finally, apart from the *requests* package, you are encouraged to not use any third party Python packages, such as *pandas*, and instead focus on what's available in the Python Standard Library (the *collections* module might come in handy: https://pymotw.com/3/collections/ ).\n",
        "Also, since you won't have access to DataFrames, you are encouraged to us Python's native data structures - preferably dictionaries, though some questions can also be answered using lists.\n",
        "You can read more on these data structures here: https://docs.python.org/3/tutorial/datastructures.html"
      ]
    },
    {
      "cell_type": "markdown",
      "metadata": {
        "id": "BIrgu74kpnJ6"
      },
      "source": [
        "Keep in mind that the JSON responses you will be getting from the API map almost one-to-one to Python's dictionaries. Unfortunately, they can be very nested, so make sure you read up on indexing dictionaries in the documentation provided above."
      ]
    },
    {
      "cell_type": "code",
      "metadata": {
        "collapsed": true,
        "id": "Cwq0EKFzpnJ6"
      },
      "source": [
        "# First, import the relevant modules\n",
        "\n",
        "import requests\n",
        "import pandas as pd\n",
        "import numpy as np\n",
        "import collections\n",
        "import json"
      ],
      "execution_count": 1,
      "outputs": []
    },
    {
      "cell_type": "code",
      "metadata": {
        "collapsed": true,
        "id": "KdHj-P3PpnJ6"
      },
      "source": [
        "# Now, call the Quandl API and pull out a small sample of the data (only one day) to get a glimpse\n",
        "# into the JSON structure that will be returned\n",
        "url = \"https://www.quandl.com/api/v3/datasets/FSE/AFX_X.json?api_key=D1izcyvyXhRzhSKhNCsV\"\n",
        "r = requests.get(url)\n",
        "json_data = r.json()\n",
        "Headers = pd.DataFrame.from_dict(json_data['dataset']['column_names'], orient='columns')\n",
        "\n",
        "data = pd.DataFrame.from_dict(json_data['dataset']['data'], orient='columns')\n"
      ],
      "execution_count": 27,
      "outputs": []
    },
    {
      "cell_type": "code",
      "metadata": {
        "colab": {
          "base_uri": "https://localhost:8080/",
          "height": 204
        },
        "id": "cJKdyMmrZNUM",
        "outputId": "34a9f8c4-664f-409e-e855-34235e53ce75"
      },
      "source": [
        "data.columns=['Date','Open','High','Low','Close','Change','Trade Vol','TurnOver','Last Price of the Day','Daily Traded Units','Daily Turnover']\r\n",
        "data.head()"
      ],
      "execution_count": 28,
      "outputs": [
        {
          "output_type": "execute_result",
          "data": {
            "text/html": [
              "<div>\n",
              "<style scoped>\n",
              "    .dataframe tbody tr th:only-of-type {\n",
              "        vertical-align: middle;\n",
              "    }\n",
              "\n",
              "    .dataframe tbody tr th {\n",
              "        vertical-align: top;\n",
              "    }\n",
              "\n",
              "    .dataframe thead th {\n",
              "        text-align: right;\n",
              "    }\n",
              "</style>\n",
              "<table border=\"1\" class=\"dataframe\">\n",
              "  <thead>\n",
              "    <tr style=\"text-align: right;\">\n",
              "      <th></th>\n",
              "      <th>Date</th>\n",
              "      <th>Open</th>\n",
              "      <th>High</th>\n",
              "      <th>Low</th>\n",
              "      <th>Close</th>\n",
              "      <th>Change</th>\n",
              "      <th>Trade Vol</th>\n",
              "      <th>TurnOver</th>\n",
              "      <th>Last Price of the Day</th>\n",
              "      <th>Daily Traded Units</th>\n",
              "      <th>Daily Turnover</th>\n",
              "    </tr>\n",
              "  </thead>\n",
              "  <tbody>\n",
              "    <tr>\n",
              "      <th>0</th>\n",
              "      <td>2020-12-01</td>\n",
              "      <td>112.2</td>\n",
              "      <td>112.2</td>\n",
              "      <td>111.5</td>\n",
              "      <td>112.0</td>\n",
              "      <td>NaN</td>\n",
              "      <td>51.0</td>\n",
              "      <td>5703.0</td>\n",
              "      <td>None</td>\n",
              "      <td>None</td>\n",
              "      <td>NaN</td>\n",
              "    </tr>\n",
              "    <tr>\n",
              "      <th>1</th>\n",
              "      <td>2020-11-30</td>\n",
              "      <td>111.0</td>\n",
              "      <td>113.6</td>\n",
              "      <td>111.0</td>\n",
              "      <td>112.1</td>\n",
              "      <td>NaN</td>\n",
              "      <td>315.0</td>\n",
              "      <td>35111.5</td>\n",
              "      <td>None</td>\n",
              "      <td>None</td>\n",
              "      <td>NaN</td>\n",
              "    </tr>\n",
              "    <tr>\n",
              "      <th>2</th>\n",
              "      <td>2020-11-27</td>\n",
              "      <td>111.0</td>\n",
              "      <td>111.5</td>\n",
              "      <td>109.5</td>\n",
              "      <td>111.2</td>\n",
              "      <td>NaN</td>\n",
              "      <td>155.0</td>\n",
              "      <td>17168.5</td>\n",
              "      <td>None</td>\n",
              "      <td>None</td>\n",
              "      <td>NaN</td>\n",
              "    </tr>\n",
              "    <tr>\n",
              "      <th>3</th>\n",
              "      <td>2020-11-26</td>\n",
              "      <td>111.3</td>\n",
              "      <td>112.0</td>\n",
              "      <td>110.5</td>\n",
              "      <td>111.6</td>\n",
              "      <td>NaN</td>\n",
              "      <td>254.0</td>\n",
              "      <td>28367.5</td>\n",
              "      <td>None</td>\n",
              "      <td>None</td>\n",
              "      <td>NaN</td>\n",
              "    </tr>\n",
              "    <tr>\n",
              "      <th>4</th>\n",
              "      <td>2020-11-25</td>\n",
              "      <td>111.4</td>\n",
              "      <td>111.4</td>\n",
              "      <td>110.1</td>\n",
              "      <td>110.1</td>\n",
              "      <td>NaN</td>\n",
              "      <td>294.0</td>\n",
              "      <td>32435.8</td>\n",
              "      <td>None</td>\n",
              "      <td>None</td>\n",
              "      <td>NaN</td>\n",
              "    </tr>\n",
              "  </tbody>\n",
              "</table>\n",
              "</div>"
            ],
            "text/plain": [
              "         Date   Open  ...  Daily Traded Units  Daily Turnover\n",
              "0  2020-12-01  112.2  ...                None             NaN\n",
              "1  2020-11-30  111.0  ...                None             NaN\n",
              "2  2020-11-27  111.0  ...                None             NaN\n",
              "3  2020-11-26  111.3  ...                None             NaN\n",
              "4  2020-11-25  111.4  ...                None             NaN\n",
              "\n",
              "[5 rows x 11 columns]"
            ]
          },
          "metadata": {
            "tags": []
          },
          "execution_count": 28
        }
      ]
    },
    {
      "cell_type": "code",
      "metadata": {
        "collapsed": true,
        "id": "xxHjSv9YpnJ7"
      },
      "source": [
        "# Inspect the JSON structure of the object you created, and take note of how nested it is,\n",
        "# as well as the overall structure\n"
      ],
      "execution_count": null,
      "outputs": []
    },
    {
      "cell_type": "markdown",
      "metadata": {
        "id": "i62SYcuNpnJ7"
      },
      "source": [
        "These are your tasks for this mini project:\n",
        "\n",
        "1. Collect data from the Franfurt Stock Exchange, for the ticker AFX_X, for the whole year 2017 (keep in mind that the date format is YYYY-MM-DD).\n",
        "2. Convert the returned JSON object into a Python dictionary.\n",
        "3. Calculate what the highest and lowest opening prices were for the stock in this period.\n",
        "4. What was the largest change in any one day (based on High and Low price)?\n",
        "5. What was the largest change between any two days (based on Closing Price)?\n",
        "6. What was the average daily trading volume during this year?\n",
        "7. (Optional) What was the median trading volume during this year. (Note: you may need to implement your own function for calculating the median.)"
      ]
    },
    {
      "cell_type": "code",
      "metadata": {
        "collapsed": true,
        "id": "iJ1CLo8JpnJ7",
        "colab": {
          "base_uri": "https://localhost:8080/"
        },
        "outputId": "5decdb59-5efc-4c6f-d52a-6867a231e6fc"
      },
      "source": [
        "Max_Open=data['Open'].max()\r\n",
        "Min_Open=data['Open'].min()\r\n",
        "print('Max',Max_Open)\r\n",
        "print('Min',Min_Open)"
      ],
      "execution_count": 29,
      "outputs": [
        {
          "output_type": "stream",
          "text": [
            "Max 122.1\n",
            "Min 4.2\n"
          ],
          "name": "stdout"
        }
      ]
    },
    {
      "cell_type": "code",
      "metadata": {
        "colab": {
          "base_uri": "https://localhost:8080/"
        },
        "id": "F-xG8IWgaFYD",
        "outputId": "a186903b-655c-4242-c2bd-3cc9d2048beb"
      },
      "source": [
        "data['Diff'] = data['High'] - data['Low']\r\n",
        "max_change = max(data['Diff'])\r\n",
        "max_change"
      ],
      "execution_count": 33,
      "outputs": [
        {
          "output_type": "execute_result",
          "data": {
            "text/plain": [
              "14.099999999999994"
            ]
          },
          "metadata": {
            "tags": []
          },
          "execution_count": 33
        }
      ]
    }
  ]
}